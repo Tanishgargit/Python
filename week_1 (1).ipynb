{
  "nbformat": 4,
  "nbformat_minor": 0,
  "metadata": {
    "colab": {
      "provenance": []
    },
    "kernelspec": {
      "name": "python3",
      "display_name": "Python 3"
    },
    "language_info": {
      "name": "python"
    }
  },
  "cells": [
    {
      "cell_type": "code",
      "execution_count": null,
      "metadata": {
        "colab": {
          "base_uri": "https://localhost:8080/"
        },
        "id": "Zs5gQWg7Mvjk",
        "outputId": "4558f460-1888-4d1a-be02-8d4dbf5afedf"
      },
      "outputs": [
        {
          "output_type": "stream",
          "name": "stdout",
          "text": [
            "Hello world\n"
          ]
        }
      ],
      "source": [
        "print(\"Hello world\")"
      ]
    },
    {
      "cell_type": "code",
      "source": [
        "print(\"Tanish Garg\")"
      ],
      "metadata": {
        "colab": {
          "base_uri": "https://localhost:8080/"
        },
        "id": "FGcvf-YgOnYY",
        "outputId": "8cde1102-b6eb-43cd-d1c4-c7e16159fb3a"
      },
      "execution_count": null,
      "outputs": [
        {
          "output_type": "stream",
          "name": "stdout",
          "text": [
            "Tanish Garg\n"
          ]
        }
      ]
    },
    {
      "cell_type": "code",
      "source": [
        "#variables:container(store values)\n",
        "firstname = \"Tanish\" #string\n",
        "lastname=\"Garg\" #string\n",
        "subject = \"SOL\"\n",
        "age= 20 #int\n",
        "weight= 67.5 #float\n",
        "num = -12\n",
        "n1= -12.90\n"
      ],
      "metadata": {
        "id": "em7AcwbcO4Ph"
      },
      "execution_count": null,
      "outputs": []
    },
    {
      "cell_type": "code",
      "source": [
        "print(firstname)\n",
        "print(lastname)\n",
        "print(age)\n",
        "print(weight)\n",
        "print(num)\n",
        "#another way of printing\n",
        "print(firstname, lastname, age, weight, num)"
      ],
      "metadata": {
        "colab": {
          "base_uri": "https://localhost:8080/"
        },
        "id": "sUwAklQHQB0T",
        "outputId": "a0acebc9-2a49-4da7-bc98-88468d43da1b"
      },
      "execution_count": null,
      "outputs": [
        {
          "output_type": "stream",
          "name": "stdout",
          "text": [
            "Tanish\n",
            "Garg\n",
            "20\n",
            "67.5\n",
            "-12\n",
            "Tanish Garg 20 67.5 -12\n"
          ]
        }
      ]
    },
    {
      "cell_type": "code",
      "source": [
        "#datatypes\n",
        "ismarried = False #Boolean - store True or False . True or False are 1 and o\n",
        "print(ismarried)\n",
        "ismarried = 0\n",
        "print(ismarried)"
      ],
      "metadata": {
        "colab": {
          "base_uri": "https://localhost:8080/"
        },
        "id": "HV3FINxhREp3",
        "outputId": "4b12ca1e-72c0-4ae0-f04d-4d43b2cd6b0e"
      },
      "execution_count": null,
      "outputs": [
        {
          "output_type": "stream",
          "name": "stdout",
          "text": [
            "False\n",
            "False\n"
          ]
        }
      ]
    },
    {
      "cell_type": "code",
      "source": [
        "type(firstname)# str stands for string\n",
        "type(age)\n",
        "type(weight)\n",
        "type(num)\n",
        "type(ismarried)\n",
        "type(n1)"
      ],
      "metadata": {
        "colab": {
          "base_uri": "https://localhost:8080/"
        },
        "id": "1rd7ry2ES_-E",
        "outputId": "b25323a5-7f65-4ca5-b04a-ac9f1a5e59de"
      },
      "execution_count": null,
      "outputs": [
        {
          "output_type": "execute_result",
          "data": {
            "text/plain": [
              "float"
            ]
          },
          "metadata": {},
          "execution_count": 24
        }
      ]
    },
    {
      "cell_type": "code",
      "source": [
        "# Tanish Garg fav subject is SQL : Concatenation\n",
        "# print: Tanish Garg is 20 years old and his weight is 67.5 and his fav number is -12 and is he married: False\n",
        "print(firstname+\" \"+lastname + \" fav subject is \" + subject)\n",
        "print(firstname + \" \"+ lastname + \" is \"+ str(age) + \" years old and his weight is \"+str(weight) + \" and his fav number is \"+ str(num)+ \" and is he married: \"+ str(ismarried))"
      ],
      "metadata": {
        "colab": {
          "base_uri": "https://localhost:8080/"
        },
        "id": "kN1uMX5KTAJg",
        "outputId": "966b8266-1529-4a22-e6a9-0359056d591b"
      },
      "execution_count": null,
      "outputs": [
        {
          "output_type": "stream",
          "name": "stdout",
          "text": [
            "Tanish Garg fav subject is SOL\n",
            "Tanish Garg is 20 years old and his weight is 67.5 and his fav number is -12 and is he married: 0\n"
          ]
        }
      ]
    },
    {
      "cell_type": "code",
      "source": [
        "#type conversion"
      ],
      "metadata": {
        "id": "k5j1KLs2mOwZ"
      },
      "execution_count": null,
      "outputs": []
    },
    {
      "cell_type": "code",
      "source": [
        "isbool = 'True'\n",
        "isit = bool(isbool)\n",
        "type(isit)"
      ],
      "metadata": {
        "colab": {
          "base_uri": "https://localhost:8080/"
        },
        "id": "pd7JtPjLmPD1",
        "outputId": "cfd31ff3-22ba-4126-a9c9-b55ae8844d78"
      },
      "execution_count": null,
      "outputs": [
        {
          "output_type": "execute_result",
          "data": {
            "text/plain": [
              "bool"
            ]
          },
          "metadata": {},
          "execution_count": 39
        }
      ]
    },
    {
      "cell_type": "code",
      "source": [
        "x=\"Tanish\"\n",
        "x=bool(x)\n",
        "type(x)\n",
        "print(x)"
      ],
      "metadata": {
        "colab": {
          "base_uri": "https://localhost:8080/"
        },
        "id": "qU9EjP4XXF-w",
        "outputId": "12550703-b494-4a03-a3e2-449f25f75d44"
      },
      "execution_count": null,
      "outputs": [
        {
          "output_type": "stream",
          "name": "stdout",
          "text": [
            "True\n"
          ]
        }
      ]
    },
    {
      "cell_type": "code",
      "source": [
        "weight1= '70.9'\n",
        "weight1 = float(weight1)\n",
        "type(weight1)"
      ],
      "metadata": {
        "colab": {
          "base_uri": "https://localhost:8080/"
        },
        "id": "MPD8-s9wnv_r",
        "outputId": "905a4ad9-0daa-485e-f992-4c6954fcfaed"
      },
      "execution_count": null,
      "outputs": [
        {
          "output_type": "execute_result",
          "data": {
            "text/plain": [
              "float"
            ]
          },
          "metadata": {},
          "execution_count": 104
        }
      ]
    },
    {
      "cell_type": "code",
      "source": [
        "num1= 12\n",
        "num1 = float(num1)\n",
        "type(num1)\n",
        "print(num1)"
      ],
      "metadata": {
        "colab": {
          "base_uri": "https://localhost:8080/"
        },
        "id": "yR0vQH9vs7MU",
        "outputId": "7c572d15-8f87-4833-9009-31aa31f6bb26"
      },
      "execution_count": null,
      "outputs": [
        {
          "output_type": "stream",
          "name": "stdout",
          "text": [
            "12.0\n"
          ]
        }
      ]
    },
    {
      "cell_type": "code",
      "source": [
        "weight1=int(weight1)\n",
        "print(weight1)"
      ],
      "metadata": {
        "colab": {
          "base_uri": "https://localhost:8080/"
        },
        "id": "p8Yf8KiQ8TG_",
        "outputId": "90fa716f-12f5-4783-ad4b-5935002cd87f"
      },
      "execution_count": null,
      "outputs": [
        {
          "output_type": "stream",
          "name": "stdout",
          "text": [
            "70\n"
          ]
        }
      ]
    },
    {
      "cell_type": "code",
      "source": [
        "x=10,20,30,40,50\n",
        "print(x)"
      ],
      "metadata": {
        "colab": {
          "base_uri": "https://localhost:8080/"
        },
        "id": "wtUDhdbEs7P7",
        "outputId": "195c77d8-9579-423f-ba4c-3c60bf200ed0"
      },
      "execution_count": null,
      "outputs": [
        {
          "output_type": "stream",
          "name": "stdout",
          "text": [
            "(10, 20, 30, 40, 50)\n"
          ]
        }
      ]
    },
    {
      "cell_type": "code",
      "source": [
        "x=y=z=100\n",
        "print(x,y,z)"
      ],
      "metadata": {
        "colab": {
          "base_uri": "https://localhost:8080/"
        },
        "id": "hntbOm06DwWL",
        "outputId": "4212cb01-dcc2-4837-c086-19f12448902d"
      },
      "execution_count": null,
      "outputs": [
        {
          "output_type": "stream",
          "name": "stdout",
          "text": [
            "100 100 100\n"
          ]
        }
      ]
    },
    {
      "cell_type": "code",
      "source": [
        "x,y,z,a,b,c='A','B','c','D','E','F'\n",
        "print(x,y,z,a,b,c)# order must be considered"
      ],
      "metadata": {
        "colab": {
          "base_uri": "https://localhost:8080/"
        },
        "id": "bdisZd_UDwhC",
        "outputId": "c548c289-e72f-40e3-c10a-ad0d37f99ecf"
      },
      "execution_count": null,
      "outputs": [
        {
          "output_type": "stream",
          "name": "stdout",
          "text": [
            "A B c D E F\n"
          ]
        }
      ]
    },
    {
      "cell_type": "code",
      "source": [
        "##Day-2"
      ],
      "metadata": {
        "id": "fD0I2N9_Dwkd"
      },
      "execution_count": null,
      "outputs": []
    },
    {
      "cell_type": "code",
      "source": [
        "#OPERATORS\n",
        "#few variables : asign values to them and will start with arithmetic operators: +.-,*,/,**,%,//"
      ],
      "metadata": {
        "id": "5W_I1td_Dwrd"
      },
      "execution_count": null,
      "outputs": []
    },
    {
      "cell_type": "code",
      "source": [
        "x=10\n",
        "y=20\n",
        "z=2"
      ],
      "metadata": {
        "id": "vPFwX0JkKFPR"
      },
      "execution_count": null,
      "outputs": []
    },
    {
      "cell_type": "code",
      "source": [
        "print(x+y+z)\n",
        "x-y\n"
      ],
      "metadata": {
        "colab": {
          "base_uri": "https://localhost:8080/"
        },
        "id": "0UMWSdRrKFSV",
        "outputId": "d7aabdbb-b057-49c2-a221-698eb80c1ab6"
      },
      "execution_count": null,
      "outputs": [
        {
          "output_type": "stream",
          "name": "stdout",
          "text": [
            "32\n"
          ]
        },
        {
          "output_type": "execute_result",
          "data": {
            "text/plain": [
              "-10"
            ]
          },
          "metadata": {},
          "execution_count": 4
        }
      ]
    },
    {
      "cell_type": "code",
      "source": [
        "print(x*y*z)\n",
        "print(x/y)\n",
        "y/x"
      ],
      "metadata": {
        "colab": {
          "base_uri": "https://localhost:8080/"
        },
        "id": "pLKoomO-KFVg",
        "outputId": "62096625-7b2f-42fb-e325-ae3a2b00c397"
      },
      "execution_count": null,
      "outputs": [
        {
          "output_type": "stream",
          "name": "stdout",
          "text": [
            "400\n",
            "0.5\n"
          ]
        },
        {
          "output_type": "execute_result",
          "data": {
            "text/plain": [
              "2.0"
            ]
          },
          "metadata": {},
          "execution_count": 6
        }
      ]
    },
    {
      "cell_type": "code",
      "source": [
        "#power or exponent symbol and modulo  : x=10 and z=2\n",
        "x**z"
      ],
      "metadata": {
        "colab": {
          "base_uri": "https://localhost:8080/"
        },
        "id": "wgDfcGVs8Dx_",
        "outputId": "bf32e9a8-7c75-4269-ed0b-7fe34ad62106"
      },
      "execution_count": null,
      "outputs": [
        {
          "output_type": "execute_result",
          "data": {
            "text/plain": [
              "100"
            ]
          },
          "metadata": {},
          "execution_count": 7
        }
      ]
    },
    {
      "cell_type": "code",
      "source": [
        "u=3\n",
        "z**u"
      ],
      "metadata": {
        "colab": {
          "base_uri": "https://localhost:8080/"
        },
        "id": "UcOscp8F8D0k",
        "outputId": "db216c7a-aa93-4b3a-c7d4-183f367480b4"
      },
      "execution_count": null,
      "outputs": [
        {
          "output_type": "execute_result",
          "data": {
            "text/plain": [
              "8"
            ]
          },
          "metadata": {},
          "execution_count": 8
        }
      ]
    },
    {
      "cell_type": "code",
      "source": [
        "#modulo :9/2 Remainder:\n",
        "a=17\n",
        "b=4\n",
        "a%b"
      ],
      "metadata": {
        "colab": {
          "base_uri": "https://localhost:8080/"
        },
        "id": "IrZUvnKL8D4E",
        "outputId": "bd738858-ca3f-4846-a706-78f968f1b629"
      },
      "execution_count": null,
      "outputs": [
        {
          "output_type": "execute_result",
          "data": {
            "text/plain": [
              "1"
            ]
          },
          "metadata": {},
          "execution_count": 3
        }
      ]
    },
    {
      "cell_type": "code",
      "source": [
        "a=225\n",
        "b=5\n",
        "a%b"
      ],
      "metadata": {
        "colab": {
          "base_uri": "https://localhost:8080/"
        },
        "id": "VwwEASEy9W7_",
        "outputId": "59c8df8e-e5e4-4aa6-a761-017d954c419f"
      },
      "execution_count": null,
      "outputs": [
        {
          "output_type": "execute_result",
          "data": {
            "text/plain": [
              "0"
            ]
          },
          "metadata": {},
          "execution_count": 10
        }
      ]
    },
    {
      "cell_type": "code",
      "source": [
        "10//4 # //floor division operator: a//b"
      ],
      "metadata": {
        "colab": {
          "base_uri": "https://localhost:8080/"
        },
        "id": "Q03XE1JL9W-F",
        "outputId": "7a67373e-7bdd-4e86-fa55-e80458a25bad"
      },
      "execution_count": null,
      "outputs": [
        {
          "output_type": "execute_result",
          "data": {
            "text/plain": [
              "2"
            ]
          },
          "metadata": {},
          "execution_count": 1
        }
      ]
    },
    {
      "cell_type": "code",
      "source": [
        "a//b"
      ],
      "metadata": {
        "colab": {
          "base_uri": "https://localhost:8080/"
        },
        "id": "ItJnvSvs-gOb",
        "outputId": "fc8a6525-044a-433c-f6ea-baed22cce18f"
      },
      "execution_count": null,
      "outputs": [
        {
          "output_type": "execute_result",
          "data": {
            "text/plain": [
              "4"
            ]
          },
          "metadata": {},
          "execution_count": 4
        }
      ]
    },
    {
      "cell_type": "code",
      "source": [
        "#Comparsion Operator\n",
        "# thse arfe used to compare two values"
      ],
      "metadata": {
        "id": "dNX7XRzx-gQ5"
      },
      "execution_count": null,
      "outputs": []
    },
    {
      "cell_type": "code",
      "source": [
        "a=17\n",
        "b=7\n",
        "print(a>b,a<b,a==b, a<=b,a>=b, a!=b)"
      ],
      "metadata": {
        "colab": {
          "base_uri": "https://localhost:8080/"
        },
        "id": "0QlnaIzljWst",
        "outputId": "91a36d4e-eb18-4e07-b18b-0e4f270d3817"
      },
      "execution_count": null,
      "outputs": [
        {
          "output_type": "stream",
          "name": "stdout",
          "text": [
            "True False False False True True\n"
          ]
        }
      ]
    },
    {
      "cell_type": "code",
      "source": [
        "a=17\n",
        "b=17\n",
        "a==b"
      ],
      "metadata": {
        "colab": {
          "base_uri": "https://localhost:8080/"
        },
        "id": "kOHV4gdQjWwH",
        "outputId": "12899035-8baf-4d06-9a12-e3c32d70e48d"
      },
      "execution_count": null,
      "outputs": [
        {
          "output_type": "execute_result",
          "data": {
            "text/plain": [
              "True"
            ]
          },
          "metadata": {},
          "execution_count": 12
        }
      ]
    },
    {
      "cell_type": "code",
      "source": [
        "a!=b"
      ],
      "metadata": {
        "colab": {
          "base_uri": "https://localhost:8080/"
        },
        "id": "PGy5_f3q-gS_",
        "outputId": "ca1eb014-b513-4d56-c48b-1d6e4e4ce40a"
      },
      "execution_count": null,
      "outputs": [
        {
          "output_type": "execute_result",
          "data": {
            "text/plain": [
              "True"
            ]
          },
          "metadata": {},
          "execution_count": 8
        }
      ]
    },
    {
      "cell_type": "code",
      "source": [
        "a=9\n",
        "b=90\n",
        "print(a>b,a<b,a==b, a<=b,a>=b, a!=b)"
      ],
      "metadata": {
        "colab": {
          "base_uri": "https://localhost:8080/"
        },
        "id": "U-VzCy0y-gVl",
        "outputId": "ce65e5bb-dc62-44bd-eaab-2307414f77d9"
      },
      "execution_count": null,
      "outputs": [
        {
          "output_type": "stream",
          "name": "stdout",
          "text": [
            "False True False True False True\n"
          ]
        }
      ]
    },
    {
      "cell_type": "code",
      "source": [
        "firstname = \"Tanish\"\n",
        "lastname = \"Garg\"\n",
        "print(firstname == lastname, firstname>lastname, firstname<lastname, firstname>=lastname, firstname<=lastname, firstname!=lastname)"
      ],
      "metadata": {
        "colab": {
          "base_uri": "https://localhost:8080/"
        },
        "id": "L5nq58KX-gXr",
        "outputId": "0ab1acc6-eb57-4f09-e8e9-e3d38aa2ec5a"
      },
      "execution_count": null,
      "outputs": [
        {
          "output_type": "stream",
          "name": "stdout",
          "text": [
            "False True False True False True\n"
          ]
        }
      ]
    },
    {
      "cell_type": "code",
      "source": [
        "#Logical operators : and , not, or"
      ],
      "metadata": {
        "id": "YFSxsvaJ-gbI"
      },
      "execution_count": null,
      "outputs": []
    },
    {
      "cell_type": "code",
      "source": [
        "2>1 and 1<2 #: true and true- true\n",
        "2>1 and 3<2 #;true and false - false\n",
        "3<2 and 1<2 #: false and true- false\n",
        "3<2 and 2<1 #:false and false- false"
      ],
      "metadata": {
        "colab": {
          "base_uri": "https://localhost:8080/"
        },
        "id": "7JPiCoKKmGJQ",
        "outputId": "a490614c-0501-464f-9110-3893a95b7f69"
      },
      "execution_count": null,
      "outputs": [
        {
          "output_type": "execute_result",
          "data": {
            "text/plain": [
              "False"
            ]
          },
          "metadata": {},
          "execution_count": 3
        }
      ]
    },
    {
      "cell_type": "code",
      "source": [
        "#or operator\n",
        "2>1 or 3>2     #: true or true - true\n",
        "3>2 or 2<1     #: true or false- true\n",
        "2<1 or 3>2      #: false or true- true\n",
        "2<1 or 10>14    #:false or false- false"
      ],
      "metadata": {
        "colab": {
          "base_uri": "https://localhost:8080/"
        },
        "id": "Lu8DSmhtmGMm",
        "outputId": "46bd4305-656a-4abb-fd0b-84b8ae718fc5"
      },
      "execution_count": null,
      "outputs": [
        {
          "output_type": "execute_result",
          "data": {
            "text/plain": [
              "False"
            ]
          },
          "metadata": {},
          "execution_count": 9
        }
      ]
    },
    {
      "cell_type": "code",
      "source": [
        "#not operator#: true- false\n",
        "#: false - true\n",
        "not(2<1 or 10>14 )"
      ],
      "metadata": {
        "colab": {
          "base_uri": "https://localhost:8080/"
        },
        "id": "8lBvh8up9XBg",
        "outputId": "cf789aea-a546-494e-868e-297b26f4947b"
      },
      "execution_count": null,
      "outputs": [
        {
          "output_type": "execute_result",
          "data": {
            "text/plain": [
              "True"
            ]
          },
          "metadata": {},
          "execution_count": 10
        }
      ]
    },
    {
      "cell_type": "code",
      "source": [
        "age= 18\n",
        "age>23"
      ],
      "metadata": {
        "colab": {
          "base_uri": "https://localhost:8080/"
        },
        "id": "2NNyVx709XRE",
        "outputId": "89594b50-72f0-4741-ff4d-1a48af8023e9"
      },
      "execution_count": null,
      "outputs": [
        {
          "output_type": "execute_result",
          "data": {
            "text/plain": [
              "False"
            ]
          },
          "metadata": {},
          "execution_count": 11
        }
      ]
    },
    {
      "cell_type": "code",
      "source": [
        "not(age>23)"
      ],
      "metadata": {
        "colab": {
          "base_uri": "https://localhost:8080/"
        },
        "id": "p-7q76d18D6z",
        "outputId": "aea1a5b4-91a1-4512-a79f-2340685fb51b"
      },
      "execution_count": null,
      "outputs": [
        {
          "output_type": "execute_result",
          "data": {
            "text/plain": [
              "True"
            ]
          },
          "metadata": {},
          "execution_count": 12
        }
      ]
    },
    {
      "cell_type": "code",
      "source": [
        "# project-1\n",
        "x=10\n",
        "y=20\n",
        "z=30\n",
        "print(x,y,z)"
      ],
      "metadata": {
        "colab": {
          "base_uri": "https://localhost:8080/"
        },
        "id": "uOmiFZVbSBMx",
        "outputId": "0fc8c344-3bdd-481e-e01a-d0bca12b8017"
      },
      "execution_count": null,
      "outputs": [
        {
          "output_type": "stream",
          "name": "stdout",
          "text": [
            "10 20 30\n"
          ]
        }
      ]
    },
    {
      "cell_type": "code",
      "source": [
        "x>=y and (not(y<=z)) #: false and not (true) : false and false- false"
      ],
      "metadata": {
        "colab": {
          "base_uri": "https://localhost:8080/"
        },
        "id": "ze3aJ3sGSBYr",
        "outputId": "48a93522-ff7f-4831-f238-0e8863545220"
      },
      "execution_count": null,
      "outputs": [
        {
          "output_type": "execute_result",
          "data": {
            "text/plain": [
              "False"
            ]
          },
          "metadata": {},
          "execution_count": 17
        }
      ]
    },
    {
      "cell_type": "code",
      "source": [
        "(not(x>=y)) or  (not(y<=z))# : not(false) or not(true) : true or false - true"
      ],
      "metadata": {
        "colab": {
          "base_uri": "https://localhost:8080/"
        },
        "id": "3MK5z_PHSBiN",
        "outputId": "d1ce1cfa-517e-4eee-fdfc-90a28f616672"
      },
      "execution_count": null,
      "outputs": [
        {
          "output_type": "execute_result",
          "data": {
            "text/plain": [
              "True"
            ]
          },
          "metadata": {},
          "execution_count": 19
        }
      ]
    },
    {
      "cell_type": "code",
      "source": [
        "not((not(x>=y)) or  (not(y<=z)))# : not(not(false) or not(true)) :not (true or false) - not(true)"
      ],
      "metadata": {
        "colab": {
          "base_uri": "https://localhost:8080/"
        },
        "id": "E1AvjJYVTTx2",
        "outputId": "1329faaf-9703-40b8-b0eb-98286e80a96c"
      },
      "execution_count": null,
      "outputs": [
        {
          "output_type": "execute_result",
          "data": {
            "text/plain": [
              "False"
            ]
          },
          "metadata": {},
          "execution_count": 20
        }
      ]
    },
    {
      "cell_type": "code",
      "source": [
        "not((not(x>=y)) or (x!=y) and (not(y<=z)))# order of precedence : not and or"
      ],
      "metadata": {
        "colab": {
          "base_uri": "https://localhost:8080/"
        },
        "id": "UKXMvt2d8D93",
        "outputId": "f5b440e5-3e38-4294-8966-c0e075e239ec"
      },
      "execution_count": null,
      "outputs": [
        {
          "output_type": "execute_result",
          "data": {
            "text/plain": [
              "False"
            ]
          },
          "metadata": {},
          "execution_count": 21
        }
      ]
    },
    {
      "cell_type": "code",
      "source": [
        "#Day-3"
      ],
      "metadata": {
        "id": "yKZ2uSkQUMap"
      },
      "execution_count": null,
      "outputs": []
    },
    {
      "cell_type": "code",
      "source": [
        "#list : thing that is used to store values. They are used to store multiple values\n",
        "#syntax list_name = []\n",
        "#List are ordered, changeable- and allow duplicate values"
      ],
      "metadata": {
        "id": "LfntaDrBnwCG"
      },
      "execution_count": null,
      "outputs": []
    },
    {
      "cell_type": "code",
      "source": [
        "marks =[100,23,34,45,65,43,25,56,65,90]\n",
        "print(marks)\n",
        "type(marks)"
      ],
      "metadata": {
        "colab": {
          "base_uri": "https://localhost:8080/"
        },
        "id": "E5Sd1trKnwEo",
        "outputId": "eaf5fab7-0264-4a12-be53-1959fc6161b0"
      },
      "execution_count": null,
      "outputs": [
        {
          "output_type": "stream",
          "name": "stdout",
          "text": [
            "[100, 23, 34, 45, 65, 43, 25, 56, 65, 90]\n"
          ]
        },
        {
          "output_type": "execute_result",
          "data": {
            "text/plain": [
              "list"
            ]
          },
          "metadata": {},
          "execution_count": 1
        }
      ]
    },
    {
      "cell_type": "code",
      "source": [
        "print(marks[4])\n",
        "# print last students marks , 1st students marks and 7 th student marks\n",
        "print(marks[0])\n",
        "print(marks[6])\n",
        "print(marks[9])\n",
        "print(marks[-1], marks[-10], marks[-4])"
      ],
      "metadata": {
        "colab": {
          "base_uri": "https://localhost:8080/"
        },
        "id": "Ccxl98LRpcNw",
        "outputId": "34605af9-b7f1-4b98-9b40-fa7b4dd239ad"
      },
      "execution_count": null,
      "outputs": [
        {
          "output_type": "stream",
          "name": "stdout",
          "text": [
            "65\n",
            "100\n",
            "25\n",
            "90\n",
            "90 100 25\n"
          ]
        }
      ]
    },
    {
      "cell_type": "code",
      "source": [
        "age = [12,23,21,23,54,47,54,12,\"Tanish\",\" Garg\", True]\n",
        "len(age)\n",
        "print(age[-1])"
      ],
      "metadata": {
        "colab": {
          "base_uri": "https://localhost:8080/"
        },
        "id": "dAi-us7dnwIk",
        "outputId": "637a22f5-0aae-4499-8728-c4606ea37516"
      },
      "execution_count": null,
      "outputs": [
        {
          "output_type": "stream",
          "name": "stdout",
          "text": [
            "True\n"
          ]
        }
      ]
    },
    {
      "cell_type": "code",
      "source": [
        "#more functions with list\n",
        "#length functions: find length of list: len()\n",
        "len(marks)"
      ],
      "metadata": {
        "colab": {
          "base_uri": "https://localhost:8080/"
        },
        "id": "ZwrLm8rUnwKj",
        "outputId": "1ba0636c-9828-4fc9-c9ce-1fd6e98483c7"
      },
      "execution_count": null,
      "outputs": [
        {
          "output_type": "execute_result",
          "data": {
            "text/plain": [
              "10"
            ]
          },
          "metadata": {},
          "execution_count": 47
        }
      ]
    },
    {
      "cell_type": "code",
      "source": [
        "x=9\n",
        "type (x)"
      ],
      "metadata": {
        "colab": {
          "base_uri": "https://localhost:8080/"
        },
        "id": "l3frX0r7tHgO",
        "outputId": "0239d8e0-a652-43e1-bea8-31193722e11b"
      },
      "execution_count": null,
      "outputs": [
        {
          "output_type": "execute_result",
          "data": {
            "text/plain": [
              "int"
            ]
          },
          "metadata": {},
          "execution_count": 50
        }
      ]
    },
    {
      "cell_type": "code",
      "source": [
        "# find marks of student 4 to student 10\n",
        "print(marks[3:10])"
      ],
      "metadata": {
        "colab": {
          "base_uri": "https://localhost:8080/"
        },
        "id": "_P-99dYetHof",
        "outputId": "cb9d4aa5-0075-47d9-ff83-f1e363ae9576"
      },
      "execution_count": null,
      "outputs": [
        {
          "output_type": "stream",
          "name": "stdout",
          "text": [
            "[45, 65, 43, 25, 56, 65, 90]\n"
          ]
        }
      ]
    },
    {
      "cell_type": "code",
      "source": [
        "print(marks[-7:])"
      ],
      "metadata": {
        "colab": {
          "base_uri": "https://localhost:8080/"
        },
        "id": "jTTB_KNbu2Ab",
        "outputId": "dc26b85f-b8f2-48e5-cd99-582b4d72f5bb"
      },
      "execution_count": null,
      "outputs": [
        {
          "output_type": "stream",
          "name": "stdout",
          "text": [
            "[45, 65, 43, 25, 56, 65, 90]\n"
          ]
        }
      ]
    },
    {
      "cell_type": "code",
      "source": [
        "# last index, 5th index and first index change values"
      ],
      "metadata": {
        "id": "jbkTOMo7wRy6"
      },
      "execution_count": null,
      "outputs": []
    },
    {
      "cell_type": "code",
      "source": [
        "marks2 =[100,23,34,45,65,43,25,56,65,90]\n",
        "print(marks2)"
      ],
      "metadata": {
        "colab": {
          "base_uri": "https://localhost:8080/"
        },
        "id": "9FVlg85rwYOL",
        "outputId": "d2d8fda8-82e3-4525-8d92-bbf9d9c346fc"
      },
      "execution_count": null,
      "outputs": [
        {
          "output_type": "stream",
          "name": "stdout",
          "text": [
            "[100, 23, 34, 45, 65, 43, 25, 56, 65, 90]\n"
          ]
        }
      ]
    },
    {
      "cell_type": "code",
      "source": [
        "marks2[0]=23\n",
        "marks2[4]=99\n",
        "marks2[-1]=70\n",
        "print(marks2)"
      ],
      "metadata": {
        "colab": {
          "base_uri": "https://localhost:8080/"
        },
        "id": "X7j8MN6uwYWn",
        "outputId": "973a6661-fd74-4a6e-e1ae-6fd1fa5cd85a"
      },
      "execution_count": null,
      "outputs": [
        {
          "output_type": "stream",
          "name": "stdout",
          "text": [
            "[23, 23, 34, 45, 99, 43, 25, 56, 65, 70]\n"
          ]
        }
      ]
    },
    {
      "cell_type": "code",
      "source": [
        "marks2[2:9]=[100,99,98,97,96]\n",
        "marks2"
      ],
      "metadata": {
        "colab": {
          "base_uri": "https://localhost:8080/"
        },
        "id": "kHNYyGe5xDV4",
        "outputId": "83f1d0ec-6880-401d-b80b-bf6b44cd4911"
      },
      "execution_count": null,
      "outputs": [
        {
          "output_type": "execute_result",
          "data": {
            "text/plain": [
              "[23, 23, 100, 99, 98, 97, 96, 70]"
            ]
          },
          "metadata": {},
          "execution_count": 80
        }
      ]
    },
    {
      "cell_type": "code",
      "source": [
        "marks2[2:9]=[1,2,3,4,5,6,7]\n",
        "marks2"
      ],
      "metadata": {
        "colab": {
          "base_uri": "https://localhost:8080/"
        },
        "id": "4rf3PfpzzHBZ",
        "outputId": "14ee9a0f-80af-4268-80c4-b1acab59f957"
      },
      "execution_count": null,
      "outputs": [
        {
          "output_type": "execute_result",
          "data": {
            "text/plain": [
              "[23, 23, 1, 2, 3, 4, 5, 6, 7]"
            ]
          },
          "metadata": {},
          "execution_count": 83
        }
      ]
    },
    {
      "cell_type": "code",
      "source": [
        "marks2[2:9]=[1,2,3,4,5,6,7,8,9]\n",
        "marks2\n"
      ],
      "metadata": {
        "colab": {
          "base_uri": "https://localhost:8080/"
        },
        "id": "fLOn4rBbzRL2",
        "outputId": "8199fb7c-54b4-446b-85c6-bfbc4b85dc3a"
      },
      "execution_count": null,
      "outputs": [
        {
          "output_type": "execute_result",
          "data": {
            "text/plain": [
              "[23, 23, 1, 2, 3, 4, 5, 6, 7, 8, 9]"
            ]
          },
          "metadata": {},
          "execution_count": 84
        }
      ]
    },
    {
      "cell_type": "code",
      "source": [
        "#insert method : add the element to the list before the specified index\n",
        "marks2.insert(2,98)\n",
        "marks2\n",
        "len(marks2)\n",
        "#to print at last position-- because 20 index position is not available so it will add to last in list using insert method\n",
        "marks2.insert(20,40)\n"
      ],
      "metadata": {
        "colab": {
          "base_uri": "https://localhost:8080/"
        },
        "id": "vPJCAAAqzbU7",
        "outputId": "fdcca734-9089-4bd9-aa87-0be1a56a4d6c"
      },
      "execution_count": null,
      "outputs": [
        {
          "output_type": "execute_result",
          "data": {
            "text/plain": [
              "16"
            ]
          },
          "metadata": {},
          "execution_count": 88
        }
      ]
    },
    {
      "cell_type": "code",
      "source": [
        "marks2.insert(16,89)\n",
        "marks2"
      ],
      "metadata": {
        "colab": {
          "base_uri": "https://localhost:8080/"
        },
        "id": "yGKlmj0Y0ACi",
        "outputId": "f81bb49b-1f6f-40f8-d6b6-82286121bc62"
      },
      "execution_count": null,
      "outputs": [
        {
          "output_type": "execute_result",
          "data": {
            "text/plain": [
              "[23, 23, 98, 98, 98, 98, 1, 2, 3, 4, 5, 6, 7, 8, 89, 9, 89]"
            ]
          },
          "metadata": {},
          "execution_count": 89
        }
      ]
    },
    {
      "cell_type": "code",
      "source": [
        "#append function: add items to the end of the list\n",
        "mar = [1,2,3,4,5]\n",
        "mar.append(40)\n",
        "mar\n"
      ],
      "metadata": {
        "colab": {
          "base_uri": "https://localhost:8080/"
        },
        "id": "NHU_swJW0-tT",
        "outputId": "1505ade4-b523-483a-aa7f-b82365326051"
      },
      "execution_count": null,
      "outputs": [
        {
          "output_type": "execute_result",
          "data": {
            "text/plain": [
              "[1, 2, 3, 4, 5, 40]"
            ]
          },
          "metadata": {},
          "execution_count": 3
        }
      ]
    },
    {
      "cell_type": "code",
      "source": [
        "#extend : it will append elements from ypur other list to your present list\n",
        "y=[90,80,70]\n",
        "mar.extend(y)\n",
        "mar"
      ],
      "metadata": {
        "colab": {
          "base_uri": "https://localhost:8080/"
        },
        "id": "z36SivKj1aGp",
        "outputId": "2d33ca99-42bd-4e78-ee4a-e2742c6d0cd0"
      },
      "execution_count": null,
      "outputs": [
        {
          "output_type": "execute_result",
          "data": {
            "text/plain": [
              "[1, 2, 3, 4, 5, 40, 90, 80, 70]"
            ]
          },
          "metadata": {},
          "execution_count": 4
        }
      ]
    },
    {
      "cell_type": "code",
      "source": [
        "y.extend(mar)\n",
        "y"
      ],
      "metadata": {
        "colab": {
          "base_uri": "https://localhost:8080/"
        },
        "id": "2eXEBnxvfSfU",
        "outputId": "3a21b1e8-a1b0-4ba9-d470-fd81c5152f8b"
      },
      "execution_count": null,
      "outputs": [
        {
          "output_type": "execute_result",
          "data": {
            "text/plain": [
              "[90, 80, 70, 1, 2, 3, 4, 5, 40, 90, 80, 70, 1, 2, 3, 4, 5, 40, 90, 80, 70]"
            ]
          },
          "metadata": {},
          "execution_count": 6
        }
      ]
    },
    {
      "cell_type": "code",
      "source": [
        "#day-4"
      ],
      "metadata": {
        "id": "SxqiGrLpDXWQ"
      },
      "execution_count": null,
      "outputs": []
    },
    {
      "cell_type": "code",
      "source": [
        "m=[10,20,30,40,50,60,70,80,90]"
      ],
      "metadata": {
        "id": "dzDB0wCRDXZm"
      },
      "execution_count": null,
      "outputs": []
    },
    {
      "cell_type": "code",
      "source": [
        "m.pop(1)\n"
      ],
      "metadata": {
        "colab": {
          "base_uri": "https://localhost:8080/"
        },
        "id": "i5TRA2pvDXdM",
        "outputId": "e569c2ea-e00d-436d-a4de-944c6046bd62"
      },
      "execution_count": null,
      "outputs": [
        {
          "output_type": "execute_result",
          "data": {
            "text/plain": [
              "20"
            ]
          },
          "metadata": {},
          "execution_count": 7
        }
      ]
    },
    {
      "cell_type": "code",
      "source": [
        "print(m)"
      ],
      "metadata": {
        "colab": {
          "base_uri": "https://localhost:8080/"
        },
        "id": "vouBisWIDXgD",
        "outputId": "575d98b4-ca8b-49d6-e457-0b86e8d64940"
      },
      "execution_count": null,
      "outputs": [
        {
          "output_type": "stream",
          "name": "stdout",
          "text": [
            "[10, 30, 40, 50, 60, 70, 80, 90]\n"
          ]
        }
      ]
    },
    {
      "cell_type": "code",
      "source": [
        "m.remove(70)"
      ],
      "metadata": {
        "id": "ibviXZ3HDXju"
      },
      "execution_count": null,
      "outputs": []
    },
    {
      "cell_type": "code",
      "source": [
        "print(m)"
      ],
      "metadata": {
        "colab": {
          "base_uri": "https://localhost:8080/"
        },
        "id": "n6tKOwXREEzT",
        "outputId": "427d52bf-19b2-4758-c984-e7d4f0a7dfaa"
      },
      "execution_count": null,
      "outputs": [
        {
          "output_type": "stream",
          "name": "stdout",
          "text": [
            "[10, 30, 40, 50, 60, 80, 90]\n"
          ]
        }
      ]
    },
    {
      "cell_type": "code",
      "source": [
        "#clear(): this removes everything from the list\n",
        "m.clear()"
      ],
      "metadata": {
        "id": "753nVFrVEE2v"
      },
      "execution_count": null,
      "outputs": []
    },
    {
      "cell_type": "code",
      "source": [
        "print(m)"
      ],
      "metadata": {
        "colab": {
          "base_uri": "https://localhost:8080/"
        },
        "id": "QH0xf5pfEai4",
        "outputId": "0c65f205-22bf-4c29-eabf-9929d8101d24"
      },
      "execution_count": null,
      "outputs": [
        {
          "output_type": "stream",
          "name": "stdout",
          "text": [
            "[]\n"
          ]
        }
      ]
    },
    {
      "cell_type": "code",
      "source": [
        "#loop - small concept here in detail we will go further\n",
        "l=[10,20,30,40,50]\n",
        "for i in l:\n",
        "  print(i)"
      ],
      "metadata": {
        "colab": {
          "base_uri": "https://localhost:8080/"
        },
        "id": "YmXyf-HTEqvU",
        "outputId": "ac7d3005-b40b-4097-9b30-7010e4b03db7"
      },
      "execution_count": null,
      "outputs": [
        {
          "output_type": "stream",
          "name": "stdout",
          "text": [
            "10\n",
            "20\n",
            "30\n",
            "40\n",
            "50\n"
          ]
        }
      ]
    },
    {
      "cell_type": "code",
      "source": [
        "for i in l:\n",
        "  print(i+10)\n",
        "  print(i*100)"
      ],
      "metadata": {
        "colab": {
          "base_uri": "https://localhost:8080/"
        },
        "id": "GKBj481DEqyU",
        "outputId": "fd32e5ed-d6df-4583-a335-bfb15694de3a"
      },
      "execution_count": null,
      "outputs": [
        {
          "output_type": "stream",
          "name": "stdout",
          "text": [
            "20\n",
            "1000\n",
            "30\n",
            "2000\n",
            "40\n",
            "3000\n",
            "50\n",
            "4000\n",
            "60\n",
            "5000\n"
          ]
        }
      ]
    },
    {
      "cell_type": "code",
      "source": [
        "#conditional statement\n",
        "a=1000\n",
        "b=200\n"
      ],
      "metadata": {
        "id": "qyLOeTaZEq08"
      },
      "execution_count": null,
      "outputs": []
    },
    {
      "cell_type": "code",
      "source": [
        "if a>b:\n",
        "  print(\"a is greater than b\")"
      ],
      "metadata": {
        "colab": {
          "base_uri": "https://localhost:8080/"
        },
        "id": "4os9TKq3Eq37",
        "outputId": "b0fb29a3-fb01-4ab3-d8b4-3a34dec0a9c9"
      },
      "execution_count": null,
      "outputs": [
        {
          "output_type": "stream",
          "name": "stdout",
          "text": [
            "a is greater than b\n"
          ]
        }
      ]
    },
    {
      "cell_type": "code",
      "source": [
        "for i in l:# identation matters a lot in python and if identation is not correct code will not work\n",
        "  if len(l)>5:\n",
        "    print(i*20)\n",
        "  print(i+100)\n",
        "  print(i**2)"
      ],
      "metadata": {
        "colab": {
          "base_uri": "https://localhost:8080/"
        },
        "id": "uwpOBjfhEq8h",
        "outputId": "1aabd995-a4ae-4079-80a0-bfb71588d657"
      },
      "execution_count": null,
      "outputs": [
        {
          "output_type": "stream",
          "name": "stdout",
          "text": [
            "110\n",
            "100\n",
            "120\n",
            "400\n",
            "130\n",
            "900\n",
            "140\n",
            "1600\n",
            "150\n",
            "2500\n"
          ]
        }
      ]
    },
    {
      "cell_type": "code",
      "source": [
        "\n",
        "names= ['x','y','z','a']\n",
        "names_copy=[]\n",
        "for variables in names:\n",
        "  names_copy.append(variables+'abcd')"
      ],
      "metadata": {
        "id": "rXOp9d2aErAd"
      },
      "execution_count": null,
      "outputs": []
    },
    {
      "cell_type": "code",
      "source": [
        "names_copy"
      ],
      "metadata": {
        "colab": {
          "base_uri": "https://localhost:8080/"
        },
        "id": "g3ohIOwNErDg",
        "outputId": "0fede558-9e93-45cd-ec6f-b9b4ee6c4b88"
      },
      "execution_count": null,
      "outputs": [
        {
          "output_type": "execute_result",
          "data": {
            "text/plain": [
              "['xabcd', 'yabcd', 'zabcd', 'aabcd']"
            ]
          },
          "metadata": {},
          "execution_count": 8
        }
      ]
    },
    {
      "cell_type": "code",
      "source": [
        "\n",
        "names= ['x','y','z','a']\n",
        "names_copy=[]\n",
        "for variables in names:\n",
        "  names_copy.append(variables*3)"
      ],
      "metadata": {
        "id": "SW-3JXAqErGK"
      },
      "execution_count": null,
      "outputs": []
    },
    {
      "cell_type": "code",
      "source": [
        "names_copy"
      ],
      "metadata": {
        "colab": {
          "base_uri": "https://localhost:8080/"
        },
        "id": "_Z5b6zrScYwY",
        "outputId": "65ddec1f-74d6-4968-e02b-61b8ec7c8aaa"
      },
      "execution_count": null,
      "outputs": [
        {
          "output_type": "execute_result",
          "data": {
            "text/plain": [
              "['x3', 'y3', 'z3', 'a3']"
            ]
          },
          "metadata": {},
          "execution_count": 3
        }
      ]
    },
    {
      "cell_type": "code",
      "source": [
        "#sort method: sorting the list\n",
        "#It will sort in ascending\n",
        "x=[10,20,30,40,50,70,40,60,80]\n",
        "x.sort()\n",
        "print(x)"
      ],
      "metadata": {
        "colab": {
          "base_uri": "https://localhost:8080/"
        },
        "id": "DC2Md3CncX7M",
        "outputId": "f0919daf-9100-4500-f937-0b8d506a2958"
      },
      "execution_count": null,
      "outputs": [
        {
          "output_type": "stream",
          "name": "stdout",
          "text": [
            "[10, 20, 30, 40, 40, 50, 60, 70, 80]\n"
          ]
        }
      ]
    },
    {
      "cell_type": "code",
      "source": [
        "#It will sort the wlements in descending order\n",
        "x.sort(reverse=True) #in place of true we can also use 1 anf false 0\n",
        "print(x)"
      ],
      "metadata": {
        "colab": {
          "base_uri": "https://localhost:8080/"
        },
        "id": "60FxWpiQcX9r",
        "outputId": "f9ac1e07-3bd2-4f7a-ff58-2adbc58247e5"
      },
      "execution_count": null,
      "outputs": [
        {
          "output_type": "stream",
          "name": "stdout",
          "text": [
            "[80, 70, 60, 50, 40, 40, 30, 20, 10]\n"
          ]
        }
      ]
    },
    {
      "cell_type": "code",
      "source": [
        "x.sort(reverse=False)# output will be ascending\n",
        "x.sort(reverse=1)#output will be descending\n",
        "x.sort(reverse=1000)#descending\n",
        "x.sort(reverse=-90)#descending"
      ],
      "metadata": {
        "id": "habxfPzFcYAp"
      },
      "execution_count": null,
      "outputs": []
    },
    {
      "cell_type": "code",
      "source": [
        "x.sort(reverse=-90)\n",
        "print(x)"
      ],
      "metadata": {
        "colab": {
          "base_uri": "https://localhost:8080/"
        },
        "id": "hYaKaxWYnZc1",
        "outputId": "a176147d-42e9-4be7-ab34-96c2d33754ff"
      },
      "execution_count": null,
      "outputs": [
        {
          "output_type": "stream",
          "name": "stdout",
          "text": [
            "[80, 70, 60, 50, 40, 40, 30, 20, 10]\n"
          ]
        }
      ]
    },
    {
      "cell_type": "code",
      "source": [
        "a=5#it will consider as true except zero ot will consider all values true\n",
        "if(a):\n",
        "  print(a)"
      ],
      "metadata": {
        "colab": {
          "base_uri": "https://localhost:8080/"
        },
        "id": "9TlYW7XcnZfe",
        "outputId": "52480f23-a54c-4b5c-fe3d-3a7b1272bebc"
      },
      "execution_count": null,
      "outputs": [
        {
          "output_type": "stream",
          "name": "stdout",
          "text": [
            "5\n"
          ]
        }
      ]
    },
    {
      "cell_type": "code",
      "source": [
        "x=[100,200,300,400]#concatenate it will add element to the end of the list\n",
        "y=[500,600,700,800]\n",
        "print(x+y)"
      ],
      "metadata": {
        "colab": {
          "base_uri": "https://localhost:8080/"
        },
        "id": "HzDy7A4HnZh-",
        "outputId": "ce1626a9-39bb-45da-c09f-3c2fa3fe0f62"
      },
      "execution_count": null,
      "outputs": [
        {
          "output_type": "stream",
          "name": "stdout",
          "text": [
            "[100, 200, 300, 400, 500, 600, 700, 800]\n"
          ]
        }
      ]
    },
    {
      "cell_type": "code",
      "source": [
        "x=[100,200,300,400]\n",
        "x*3"
      ],
      "metadata": {
        "colab": {
          "base_uri": "https://localhost:8080/"
        },
        "id": "PwEWmzBynZkX",
        "outputId": "09bdd86c-23d7-4b5f-e6b8-11476271517e"
      },
      "execution_count": null,
      "outputs": [
        {
          "output_type": "execute_result",
          "data": {
            "text/plain": [
              "[100, 200, 300, 400, 100, 200, 300, 400, 100, 200, 300, 400]"
            ]
          },
          "metadata": {},
          "execution_count": 20
        }
      ]
    },
    {
      "cell_type": "code",
      "source": [
        "#QUIZ\n",
        "names=[\"tanish\",\"Garg\",\"Aman\",\"piyush\"]\n",
        "print(names[1][-1])"
      ],
      "metadata": {
        "id": "41Z5_BdRcYEV",
        "colab": {
          "base_uri": "https://localhost:8080/"
        },
        "outputId": "be59e682-f3c2-41cf-8f63-7cb326900856"
      },
      "execution_count": null,
      "outputs": [
        {
          "output_type": "stream",
          "name": "stdout",
          "text": [
            "g\n"
          ]
        }
      ]
    },
    {
      "cell_type": "code",
      "source": [
        "l=[\"xyz\",\"zara\",\"Pynative\"]\n",
        "print(max(l))"
      ],
      "metadata": {
        "colab": {
          "base_uri": "https://localhost:8080/"
        },
        "id": "KLZA_gR5Ft7D",
        "outputId": "3d2af5a5-96cf-409f-c86a-fd551280b6dc"
      },
      "execution_count": null,
      "outputs": [
        {
          "output_type": "stream",
          "name": "stdout",
          "text": [
            "zara\n"
          ]
        }
      ]
    },
    {
      "cell_type": "code",
      "source": [
        "geek=[1,2,3,4]\n",
        "geek.append([5,6,7,8])\n",
        "print(geek)"
      ],
      "metadata": {
        "colab": {
          "base_uri": "https://localhost:8080/"
        },
        "id": "pBD2-dX6Ft9o",
        "outputId": "ba021275-4c73-43fc-8b67-075f80c8d2cb"
      },
      "execution_count": null,
      "outputs": [
        {
          "output_type": "stream",
          "name": "stdout",
          "text": [
            "[1, 2, 3, 4, [5, 6, 7, 8]]\n"
          ]
        }
      ]
    },
    {
      "cell_type": "code",
      "source": [
        "mylist=[1,2,3,4,5,6]\n",
        "pow2= [2*x for x in mylist]\n",
        "print(pow2)"
      ],
      "metadata": {
        "colab": {
          "base_uri": "https://localhost:8080/"
        },
        "id": "TaTIUfH2IW0d",
        "outputId": "f7085afb-b9d9-4d11-fd91-04193f1b1205"
      },
      "execution_count": null,
      "outputs": [
        {
          "output_type": "stream",
          "name": "stdout",
          "text": [
            "[2, 4, 6, 8, 10, 12]\n"
          ]
        }
      ]
    },
    {
      "cell_type": "code",
      "source": [
        "list1=[2,5,6,7]\n",
        "list1[1:4]=[34,45,56]\n",
        "print(list1)"
      ],
      "metadata": {
        "colab": {
          "base_uri": "https://localhost:8080/"
        },
        "id": "Eo6eqrRyFuB1",
        "outputId": "e358fcf5-6ade-4485-f3ed-ef6c1c481a26"
      },
      "execution_count": null,
      "outputs": [
        {
          "output_type": "stream",
          "name": "stdout",
          "text": [
            "[2, 34, 45, 56]\n"
          ]
        }
      ]
    },
    {
      "cell_type": "code",
      "source": [
        "year=[1998,1999]\n",
        "year1=[2000,2002]\n",
        "print((year+year1)*2)"
      ],
      "metadata": {
        "colab": {
          "base_uri": "https://localhost:8080/"
        },
        "id": "QHEC14dUJLMU",
        "outputId": "afe65128-8c82-4f0d-c0f7-13a6dc380627"
      },
      "execution_count": null,
      "outputs": [
        {
          "output_type": "stream",
          "name": "stdout",
          "text": [
            "[1998, 1999, 2000, 2002, 1998, 1999, 2000, 2002]\n"
          ]
        }
      ]
    }
  ]
}